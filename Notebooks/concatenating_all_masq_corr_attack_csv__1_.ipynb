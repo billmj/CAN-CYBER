{
 "cells": [
  {
   "cell_type": "markdown",
   "id": "a6a1a796",
   "metadata": {},
   "source": [
    "Load Required Libraries:"
   ]
  },
  {
   "cell_type": "code",
   "execution_count": 24,
   "id": "fbff643d",
   "metadata": {},
   "outputs": [],
   "source": [
    "import pandas as pd\n",
    "import os\n"
   ]
  },
  {
   "cell_type": "markdown",
   "id": "729d3f0c",
   "metadata": {},
   "source": [
    "Set the Directory and List CSV Files:"
   ]
  },
  {
   "cell_type": "code",
   "execution_count": 25,
   "id": "28ca36cf",
   "metadata": {},
   "outputs": [
    {
     "data": {
      "text/plain": [
       "['attack_correlated_signal_attack_1_masquerade_window_size_4.0_offset_4.0.csv',\n",
       " 'attack_correlated_signal_attack_2_masquerade_window_size_4.0_offset_4.0.csv',\n",
       " 'attack_correlated_signal_attack_3_masquerade_window_size_4.0_offset_4.0.csv']"
      ]
     },
     "execution_count": 25,
     "metadata": {},
     "output_type": "execute_result"
    }
   ],
   "source": [
    "# Directory where the CSV files are stored\n",
    "csv_directory = \"C:\\\\Users\\\\willi\"\n",
    "\n",
    "# List all CSV files in the directory\n",
    "csv_files = [f for f in os.listdir(csv_directory) if f.endswith('.csv')]\n",
    "csv_files\n"
   ]
  },
  {
   "cell_type": "markdown",
   "id": "ac425af5",
   "metadata": {},
   "source": [
    "Load All CSV Files into DataFrames:"
   ]
  },
  {
   "cell_type": "code",
   "execution_count": 26,
   "id": "af302135",
   "metadata": {},
   "outputs": [],
   "source": [
    "# Load all CSV files into DataFrames\n",
    "dataframes = [pd.read_csv(os.path.join(csv_directory, csv_file)) for csv_file in csv_files]\n"
   ]
  },
  {
   "cell_type": "code",
   "execution_count": 27,
   "id": "6ff18bcb",
   "metadata": {},
   "outputs": [
    {
     "name": "stdout",
     "output_type": "stream",
     "text": [
      "CSV with the maximum number of rows: attack_correlated_signal_attack_1_masquerade_window_size_4.0_offset_4.0.csv\n",
      "Number of rows: 9\n"
     ]
    }
   ],
   "source": [
    "# Determine the filename of the CSV file with the maximum number of rows\n",
    "idx_max_rows = max(range(len(dataframes)), key=lambda i: dataframes[i].shape[0])\n",
    "\n",
    "# Get the filename of the CSV file with the maximum number of rows\n",
    "csv_max_rows = csv_files[idx_max_rows]\n",
    "\n",
    "print(f\"CSV with the maximum number of rows: {csv_max_rows}\")\n",
    "print(f\"Number of rows: {dataframes[idx_max_rows].shape[0]}\")\n"
   ]
  },
  {
   "cell_type": "markdown",
   "id": "c140fcd9",
   "metadata": {},
   "source": [
    "Pad Each DataFrame:"
   ]
  },
  {
   "cell_type": "code",
   "execution_count": 38,
   "id": "bfa3fd99",
   "metadata": {},
   "outputs": [
    {
     "name": "stderr",
     "output_type": "stream",
     "text": [
      "C:\\Users\\willi\\AppData\\Local\\Temp\\ipykernel_82480\\1104857789.py:14: FutureWarning: DataFrame.applymap has been deprecated. Use DataFrame.map instead.\n",
      "  dataframes = [df.applymap(replace_nan_with_zero) for df in dataframes]\n"
     ]
    }
   ],
   "source": [
    "import re\n",
    "\n",
    "# Define max_rows\n",
    "max_rows = dataframes[idx_max_rows].shape[0]\n",
    "\n",
    "# Regular expression replacement function\n",
    "def replace_nan_with_zero(cell):\n",
    "    if pd.isna(cell):\n",
    "        return 0\n",
    "    cell_str = str(cell)\n",
    "    return re.sub(r'\\bnan\\b', '0', cell_str)\n",
    "\n",
    "# Apply the replacement to each dataframe\n",
    "dataframes = [df.applymap(replace_nan_with_zero) for df in dataframes]\n",
    "\n",
    "# Pad each DataFrame to have the same number of rows as max_rows\n",
    "padded_dfs = []\n",
    "for df in dataframes:\n",
    "    # Calculate the number of rows to pad\n",
    "    num_rows_to_pad = max_rows - df.shape[0]\n",
    "    \n",
    "    # Create a DataFrame with zeros for padding\n",
    "    df_padding = pd.DataFrame(0, index=range(num_rows_to_pad), columns=df.columns)\n",
    "    \n",
    "    # Concatenate the original DataFrame with the padding\n",
    "    df_padded = pd.concat([df, df_padding], axis=0)\n",
    "    \n",
    "    # Append the padded DataFrame to the list\n",
    "    padded_dfs.append(df_padded)\n",
    "\n",
    "# Concatenate all padded DataFrames\n",
    "final_df = pd.concat(padded_dfs, axis=0, ignore_index=True)\n"
   ]
  },
  {
   "cell_type": "markdown",
   "id": "684054ff",
   "metadata": {},
   "source": [
    "Concatenate DataFrames and Save:"
   ]
  },
  {
   "cell_type": "code",
   "execution_count": 39,
   "id": "b3053e42",
   "metadata": {},
   "outputs": [
    {
     "name": "stdout",
     "output_type": "stream",
     "text": [
      "                                            Embedding Label\n",
      "0   [ 1.59233774e-02  4.29722599e-03  2.24088556e-...     0\n",
      "1   [ 1.12192788e-02 -1.70005211e-03  1.78522336e-...     0\n",
      "2   [ 1.12572125e-02 -9.08576128e-03  1.85943885e-...     1\n",
      "3   [ 7.91848960e-03 -8.05407474e-03  1.38200806e-...     1\n",
      "4   [ 2.48000312e-03  2.53176711e-04  1.69220444e-...     1\n",
      "5   [ 2.27568635e-02 -3.53242203e-03  1.35016346e-...     1\n",
      "6   [ 1.54802447e-02 -6.18300947e-03  1.78744690e-...     1\n",
      "7   [ 4.47077379e-03 -1.19828337e-03  2.00075641e-...     1\n",
      "8   [ 5.89536718e-04 -5.20560905e-03  2.03410137e-...     0\n",
      "9   [ 1.49606533e-02  4.55041993e-03  2.46060147e-...     0\n",
      "10  [ 3.84366719e-03 -4.19675880e-03  1.47145485e-...     1\n",
      "11  [-2.96107379e-03  6.06879732e-03  7.83946125e-...     1\n",
      "12  [ 7.67013071e-03 -3.86323009e-03  1.56829104e-...     1\n",
      "13  [ 8.14675259e-03 -4.30924316e-03  1.19435818e-...     1\n",
      "14  [ 6.64179074e-03 -1.96753736e-03  1.37784670e-...     1\n",
      "15  [ 1.51870252e-02 -6.58795796e-03  2.40037499e-...     1\n",
      "16  [ 1.28248727e-03 -5.42102126e-04  7.87691703e-...     1\n",
      "17                                                  0     0\n",
      "18  [ 1.36730011e-02  4.38618685e-03  1.80314978e-...     0\n",
      "19  [ 7.36483534e-03 -5.68198413e-03  8.76170630e-...     1\n",
      "20  [ 4.10704257e-03 -1.41818696e-03  1.90497516e-...     1\n",
      "21  [ 8.05808086e-03 -9.05792250e-03  5.11663178e-...     1\n",
      "22  [ 1.13279961e-02 -4.99308081e-03  2.45206649e-...     1\n",
      "23                                                  0     0\n",
      "24                                                  0     0\n",
      "25                                                  0     0\n",
      "26                                                  0     0\n"
     ]
    }
   ],
   "source": [
    "# Display the final DataFrame\n",
    "print(final_df)"
   ]
  },
  {
   "cell_type": "code",
   "execution_count": 40,
   "id": "a4042bd6",
   "metadata": {},
   "outputs": [
    {
     "name": "stdout",
     "output_type": "stream",
     "text": [
      "Final concatenated DataFrame saved to attack_correlated_masquerade_all_w4_off_4.csv.\n"
     ]
    }
   ],
   "source": [
    "# Save the final DataFrame to a CSV file\n",
    "output_filename = \"attack_correlated_masquerade_all_w4_off_4.csv\"\n",
    "final_df.to_csv(os.path.join(csv_directory, output_filename), index=False)\n",
    "\n",
    "print(f\"Final concatenated DataFrame saved to {output_filename}.\")\n"
   ]
  },
  {
   "cell_type": "code",
   "execution_count": null,
   "id": "bb76253f",
   "metadata": {},
   "outputs": [],
   "source": []
  }
 ],
 "metadata": {
  "kernelspec": {
   "display_name": "Python 3 (ipykernel)",
   "language": "python",
   "name": "python3"
  },
  "language_info": {
   "codemirror_mode": {
    "name": "ipython",
    "version": 3
   },
   "file_extension": ".py",
   "mimetype": "text/x-python",
   "name": "python",
   "nbconvert_exporter": "python",
   "pygments_lexer": "ipython3",
   "version": "3.11.4"
  }
 },
 "nbformat": 4,
 "nbformat_minor": 5
}
