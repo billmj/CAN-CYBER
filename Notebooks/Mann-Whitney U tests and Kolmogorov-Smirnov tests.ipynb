{
 "cells": [
  {
   "cell_type": "code",
   "execution_count": 1,
   "id": "18e19bf0",
   "metadata": {},
   "outputs": [],
   "source": [
    "import pandas as pd\n",
    "import os\n",
    "\n",
    "# List of CSV files to process\n",
    "base_path = r'C:\\Users\\willi\\CAN_experiments\\\\'\n",
    "csv_files = [\n",
    "    'performance_metrics_correlated_signal.csv',\n",
    "    'performance_metrics_max_speedometer.csv',\n",
    "    'performance_metrics_reverse_light_off.csv',\n",
    "    'performance_metrics_reverse_light_on.csv',\n",
    "    'performance_metrics_max_engine_coolant.csv'\n",
    "]\n",
    "\n",
    "# Initialize a dictionary to store the data\n",
    "all_data = {}\n",
    "\n",
    "# Iterate over each file and load the data\n",
    "for file in csv_files:\n",
    "    file_path = os.path.join(base_path, file)\n",
    "    df = pd.read_csv(file_path)\n",
    "    attack_type = file.replace('performance_metrics_', '').replace('.csv', '')\n",
    "    \n",
    "    # Store the DataFrame in the dictionary\n",
    "    all_data[attack_type] = df\n"
   ]
  },
  {
   "cell_type": "code",
   "execution_count": 2,
   "id": "4834a514",
   "metadata": {},
   "outputs": [
    {
     "name": "stdout",
     "output_type": "stream",
     "text": [
      "\n",
      "Results for 'correlated_signal' attack type:\n",
      "Mann-Whitney U Test - U Statistic: 2824.0, P Value: 5.554342616225123e-16\n",
      "Kolmogorov-Smirnov Test - KS Statistic: 0.46218487394957986, P Value: 7.623183907227998e-12\n",
      "\n",
      "Results for 'max_speedometer' attack type:\n",
      "Mann-Whitney U Test - U Statistic: 4079.0, P Value: 7.984675509937762e-09\n",
      "Kolmogorov-Smirnov Test - KS Statistic: 0.3277310924369748, P Value: 4.685849564486768e-06\n",
      "\n",
      "Results for 'reverse_light_off' attack type:\n",
      "Mann-Whitney U Test - U Statistic: 3128.0, P Value: 4.9766695538893794e-14\n",
      "Kolmogorov-Smirnov Test - KS Statistic: 0.42857142857142855, P Value: 3.45314884189695e-10\n",
      "\n",
      "Results for 'reverse_light_on' attack type:\n",
      "Mann-Whitney U Test - U Statistic: 3343.0, P Value: 9.843705352094683e-13\n",
      "Kolmogorov-Smirnov Test - KS Statistic: 0.42857142857142855, P Value: 3.45314884189695e-10\n",
      "\n",
      "Results for 'max_engine_coolant' attack type:\n",
      "Mann-Whitney U Test - U Statistic: 4297.0, P Value: 8.014861606817912e-08\n",
      "Kolmogorov-Smirnov Test - KS Statistic: 0.3277310924369748, P Value: 4.685849564486768e-06\n"
     ]
    }
   ],
   "source": [
    "from scipy.stats import mannwhitneyu, ks_2samp\n",
    "\n",
    "# Initialize dictionaries to store the test results\n",
    "mannwhitneyu_results = {}\n",
    "ks_results = {}\n",
    "\n",
    "# Perform the tests for each attack type\n",
    "for attack_type, df in all_data.items():\n",
    "    embeddings_only = df[df['version'] == 'embeddings_only']['roc_auc']\n",
    "    normalized = df[df['version'] == 'normalized']['roc_auc']\n",
    "    \n",
    "    # Mann-Whitney U test\n",
    "    u_statistic, p_value_u = mannwhitneyu(embeddings_only, normalized, alternative='less')\n",
    "    mannwhitneyu_results[attack_type] = {'U Statistic': u_statistic, 'P Value': p_value_u}\n",
    "    \n",
    "    # Kolmogorov-Smirnov test\n",
    "    ks_statistic, p_value_ks = ks_2samp(embeddings_only, normalized)\n",
    "    ks_results[attack_type] = {'KS Statistic': ks_statistic, 'P Value': p_value_ks}\n",
    "\n",
    "# Print the results\n",
    "for attack_type in mannwhitneyu_results:\n",
    "    print(f\"\\nResults for '{attack_type}' attack type:\")\n",
    "    print(f\"Mann-Whitney U Test - U Statistic: {mannwhitneyu_results[attack_type]['U Statistic']}, P Value: {mannwhitneyu_results[attack_type]['P Value']}\")\n",
    "    print(f\"Kolmogorov-Smirnov Test - KS Statistic: {ks_results[attack_type]['KS Statistic']}, P Value: {ks_results[attack_type]['P Value']}\")\n"
   ]
  },
  {
   "cell_type": "markdown",
   "id": "8e747f95",
   "metadata": {},
   "source": []
  },
  {
   "cell_type": "code",
   "execution_count": null,
   "id": "53af9141",
   "metadata": {},
   "outputs": [],
   "source": []
  }
 ],
 "metadata": {
  "kernelspec": {
   "display_name": "Python 3 (ipykernel)",
   "language": "python",
   "name": "python3"
  },
  "language_info": {
   "codemirror_mode": {
    "name": "ipython",
    "version": 3
   },
   "file_extension": ".py",
   "mimetype": "text/x-python",
   "name": "python",
   "nbconvert_exporter": "python",
   "pygments_lexer": "ipython3",
   "version": "3.8.18"
  }
 },
 "nbformat": 4,
 "nbformat_minor": 5
}
