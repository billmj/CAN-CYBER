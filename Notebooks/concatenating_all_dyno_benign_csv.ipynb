{
 "cells": [
  {
   "cell_type": "markdown",
   "id": "d13ed29c",
   "metadata": {},
   "source": [
    "Load Required Libraries:"
   ]
  },
  {
   "cell_type": "code",
   "execution_count": 1,
   "id": "803263c9",
   "metadata": {},
   "outputs": [],
   "source": [
    "import pandas as pd\n",
    "import os\n"
   ]
  },
  {
   "cell_type": "markdown",
   "id": "896ff627",
   "metadata": {},
   "source": [
    "Set the Directory and List CSV Files:"
   ]
  },
  {
   "cell_type": "code",
   "execution_count": 2,
   "id": "50926ed5",
   "metadata": {},
   "outputs": [
    {
     "data": {
      "text/plain": [
       "['ambient_dyno_drive_basic_long_benign_window_size_10.0_offset_10.0.csv',\n",
       " 'benign_ambient_dyno_drive_basic_short_window_size_10.0_offset_10.0.csv',\n",
       " 'benign_ambient_dyno_drive_benign_anomaly_window_size_10.0_offset_10.0.csv',\n",
       " 'benign_ambient_dyno_drive_extended_long_window_size_10.0_offset_10.0.csv',\n",
       " 'benign_ambient_dyno_drive_extended_short_window_size_10.0_offset_10.0.csv',\n",
       " 'benign_ambient_dyno_drive_radio_infotainment_window_size_10.0_offset_10.0.csv',\n",
       " 'benign_ambient_dyno_drive_winter_window_size_10.0_offset_10.0.csv',\n",
       " 'benign_ambient_dyno_exercise_all_bits_window_size_10.0_offset_10.0.csv',\n",
       " 'benign_ambient_dyno_idle_radio_infotainment_window_size_10.0_offset_10.0.csv',\n",
       " 'benign_ambient_dyno_reverse_window_size_10.0_offset_10.0.csv']"
      ]
     },
     "execution_count": 2,
     "metadata": {},
     "output_type": "execute_result"
    }
   ],
   "source": [
    "# Directory where the CSV files are stored\n",
    "csv_directory = \"C:\\\\Users\\\\willi\"\n",
    "\n",
    "# List all CSV files in the directory\n",
    "csv_files = [f for f in os.listdir(csv_directory) if f.endswith('.csv')]\n",
    "csv_files\n"
   ]
  },
  {
   "cell_type": "markdown",
   "id": "45d5d972",
   "metadata": {},
   "source": [
    "Load All CSV Files into DataFrames:"
   ]
  },
  {
   "cell_type": "code",
   "execution_count": 3,
   "id": "00d3550f",
   "metadata": {},
   "outputs": [],
   "source": [
    "# Load all CSV files into DataFrames\n",
    "dataframes = [pd.read_csv(os.path.join(csv_directory, csv_file)) for csv_file in csv_files]\n"
   ]
  },
  {
   "cell_type": "code",
   "execution_count": 6,
   "id": "c5aa5318",
   "metadata": {},
   "outputs": [
    {
     "name": "stdout",
     "output_type": "stream",
     "text": [
      "CSV with the maximum number of rows: benign_ambient_dyno_exercise_all_bits_window_size_10.0_offset_10.0.csv\n",
      "Number of rows: 217\n"
     ]
    }
   ],
   "source": [
    "# Determine the filename of the CSV file with the maximum number of rows\n",
    "idx_max_rows = max(range(len(dataframes)), key=lambda i: dataframes[i].shape[0])\n",
    "\n",
    "# Get the filename of the CSV file with the maximum number of rows\n",
    "csv_max_rows = csv_files[idx_max_rows]\n",
    "\n",
    "print(f\"CSV with the maximum number of rows: {csv_max_rows}\")\n",
    "print(f\"Number of rows: {dataframes[idx_max_rows].shape[0]}\")\n"
   ]
  },
  {
   "cell_type": "markdown",
   "id": "3c747012",
   "metadata": {},
   "source": [
    "Pad Each DataFrame:"
   ]
  },
  {
   "cell_type": "code",
   "execution_count": 7,
   "id": "46ec9b30",
   "metadata": {},
   "outputs": [],
   "source": [
    "# Define max_rows\n",
    "max_rows = dataframes[idx_max_rows].shape[0]\n",
    "\n",
    "# Replace NaN values with 0 for each dataframe\n",
    "dataframes = [df.fillna(0) for df in dataframes]\n",
    "\n",
    "# Pad each DataFrame to have the same number of rows as max_rows\n",
    "padded_dfs = []\n",
    "for df in dataframes:\n",
    "    # Calculate the number of rows to pad\n",
    "    num_rows_to_pad = max_rows - df.shape[0]\n",
    "    \n",
    "    # Create a DataFrame with zeros for padding\n",
    "    df_padding = pd.DataFrame(0, index=range(num_rows_to_pad), columns=df.columns)\n",
    "    \n",
    "    # Concatenate the original DataFrame with the padding\n",
    "    df_padded = pd.concat([df, df_padding], axis=0)\n",
    "    \n",
    "    # Append the padded DataFrame to the list\n",
    "    padded_dfs.append(df_padded)\n",
    "\n",
    "# Concatenate all padded DataFrames\n",
    "final_df = pd.concat(padded_dfs, axis=0, ignore_index=True)\n"
   ]
  },
  {
   "cell_type": "markdown",
   "id": "f1b6cf43",
   "metadata": {},
   "source": [
    "Concatenate DataFrames and Save:"
   ]
  },
  {
   "cell_type": "code",
   "execution_count": 8,
   "id": "842fd9d9",
   "metadata": {},
   "outputs": [
    {
     "name": "stdout",
     "output_type": "stream",
     "text": [
      "                                              Embedding  Label\n",
      "0     [ 6.14365801e-03 -1.44333249e-02  1.34322824e-...      0\n",
      "1     [ 7.83259893e-03 -8.07137362e-06  2.13869899e-...      0\n",
      "2     [ 2.10441982e-02  7.73854195e-04  1.55863106e-...      0\n",
      "3     [ 1.19718282e-02 -5.85970540e-03  2.04822147e-...      0\n",
      "4     [ 1.55465428e-02 -7.42801368e-04  1.99866048e-...      0\n",
      "...                                                 ...    ...\n",
      "2165                                                  0      0\n",
      "2166                                                  0      0\n",
      "2167                                                  0      0\n",
      "2168                                                  0      0\n",
      "2169                                                  0      0\n",
      "\n",
      "[2170 rows x 2 columns]\n"
     ]
    }
   ],
   "source": [
    "# Display the final DataFrame\n",
    "print(final_df)"
   ]
  },
  {
   "cell_type": "code",
   "execution_count": 9,
   "id": "f71017fe",
   "metadata": {},
   "outputs": [
    {
     "name": "stdout",
     "output_type": "stream",
     "text": [
      "Final concatenated DataFrame saved to benign_all_w10_off_10.csv.\n"
     ]
    }
   ],
   "source": [
    "# Save the final DataFrame to a CSV file\n",
    "output_filename = \"benign_all_w10_off_10.csv\"\n",
    "final_df.to_csv(os.path.join(csv_directory, output_filename), index=False)\n",
    "\n",
    "print(f\"Final concatenated DataFrame saved to {output_filename}.\")\n"
   ]
  },
  {
   "cell_type": "code",
   "execution_count": null,
   "id": "a3b6ae97",
   "metadata": {},
   "outputs": [],
   "source": []
  }
 ],
 "metadata": {
  "kernelspec": {
   "display_name": "Python 3 (ipykernel)",
   "language": "python",
   "name": "python3"
  },
  "language_info": {
   "codemirror_mode": {
    "name": "ipython",
    "version": 3
   },
   "file_extension": ".py",
   "mimetype": "text/x-python",
   "name": "python",
   "nbconvert_exporter": "python",
   "pygments_lexer": "ipython3",
   "version": "3.11.4"
  }
 },
 "nbformat": 4,
 "nbformat_minor": 5
}
