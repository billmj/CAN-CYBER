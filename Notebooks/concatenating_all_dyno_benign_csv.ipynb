{
 "cells": [
  {
   "cell_type": "markdown",
   "id": "d13ed29c",
   "metadata": {},
   "source": [
    "Load Required Libraries:"
   ]
  },
  {
   "cell_type": "code",
   "execution_count": 10,
   "id": "803263c9",
   "metadata": {},
   "outputs": [],
   "source": [
    "import pandas as pd\n",
    "import os\n"
   ]
  },
  {
   "cell_type": "markdown",
   "id": "896ff627",
   "metadata": {},
   "source": [
    "Set the Directory and List CSV Files:"
   ]
  },
  {
   "cell_type": "code",
   "execution_count": 11,
   "id": "50926ed5",
   "metadata": {},
   "outputs": [
    {
     "data": {
      "text/plain": [
       "['ambient_dyno_drive_basic_long_window_size_10.0_offset_10.0.csv',\n",
       " 'ambient_dyno_drive_basic_short_window_size_10.0_offset_10.0.csv',\n",
       " 'ambient_dyno_drive_benign_anomaly_window_size_10.0_offset_10.0.csv',\n",
       " 'ambient_dyno_drive_extended_long_window_size_10.0_offset_10.0.csv',\n",
       " 'ambient_dyno_drive_extended_short_window_size_10.0_offset_10.0.csv',\n",
       " 'ambient_dyno_drive_radio_infotainment_window_size_10.0_offset_10.0.csv',\n",
       " 'ambient_dyno_drive_winter_window_size_10.0_offset_10.0.csv',\n",
       " 'ambient_dyno_exercise_all_bits_window_size_10.0_offset_10.0.csv',\n",
       " 'ambient_dyno_idle_radio_infotainment_window_size_10.0_offset_10.0.csv',\n",
       " 'ambient_dyno_reverse_window_size_10.0_offset_10.0.csv']"
      ]
     },
     "execution_count": 11,
     "metadata": {},
     "output_type": "execute_result"
    }
   ],
   "source": [
    "# Directory where the CSV files are stored\n",
    "csv_directory = \"C:\\\\Users\\\\willi\\\\benign dyno csv files\"\n",
    "\n",
    "# List all CSV files in the directory\n",
    "csv_files = [f for f in os.listdir(csv_directory) if f.endswith('.csv')]\n",
    "csv_files\n"
   ]
  },
  {
   "cell_type": "markdown",
   "id": "45d5d972",
   "metadata": {},
   "source": [
    "Load All CSV Files into DataFrames:"
   ]
  },
  {
   "cell_type": "code",
   "execution_count": 12,
   "id": "00d3550f",
   "metadata": {},
   "outputs": [],
   "source": [
    "# Load all CSV files into DataFrames\n",
    "dataframes = [pd.read_csv(os.path.join(csv_directory, csv_file)) for csv_file in csv_files]\n"
   ]
  },
  {
   "cell_type": "code",
   "execution_count": 13,
   "id": "c5aa5318",
   "metadata": {},
   "outputs": [
    {
     "name": "stdout",
     "output_type": "stream",
     "text": [
      "CSV with the maximum number of rows: ambient_dyno_exercise_all_bits_window_size_10.0_offset_10.0.csv\n",
      "Number of rows: 218\n"
     ]
    }
   ],
   "source": [
    "# Determine the filename of the CSV file with the maximum number of rows\n",
    "idx_max_rows = max(range(len(dataframes)), key=lambda i: dataframes[i].shape[0])\n",
    "\n",
    "# Get the filename of the CSV file with the maximum number of rows\n",
    "csv_max_rows = csv_files[idx_max_rows]\n",
    "\n",
    "print(f\"CSV with the maximum number of rows: {csv_max_rows}\")\n",
    "print(f\"Number of rows: {dataframes[idx_max_rows].shape[0]}\")\n"
   ]
  },
  {
   "cell_type": "markdown",
   "id": "3c747012",
   "metadata": {},
   "source": [
    "Pad Each DataFrame:"
   ]
  },
  {
   "cell_type": "code",
   "execution_count": 14,
   "id": "46ec9b30",
   "metadata": {},
   "outputs": [
    {
     "name": "stderr",
     "output_type": "stream",
     "text": [
      "C:\\Users\\willi\\AppData\\Local\\Temp\\ipykernel_21628\\1104857789.py:14: FutureWarning: DataFrame.applymap has been deprecated. Use DataFrame.map instead.\n",
      "  dataframes = [df.applymap(replace_nan_with_zero) for df in dataframes]\n"
     ]
    }
   ],
   "source": [
    "import re\n",
    "\n",
    "# Define max_rows\n",
    "max_rows = dataframes[idx_max_rows].shape[0]\n",
    "\n",
    "# Regular expression replacement function\n",
    "def replace_nan_with_zero(cell):\n",
    "    if pd.isna(cell):\n",
    "        return 0\n",
    "    cell_str = str(cell)\n",
    "    return re.sub(r'\\bnan\\b', '0', cell_str)\n",
    "\n",
    "# Apply the replacement to each dataframe\n",
    "dataframes = [df.applymap(replace_nan_with_zero) for df in dataframes]\n",
    "\n",
    "# Pad each DataFrame to have the same number of rows as max_rows\n",
    "padded_dfs = []\n",
    "for df in dataframes:\n",
    "    # Calculate the number of rows to pad\n",
    "    num_rows_to_pad = max_rows - df.shape[0]\n",
    "    \n",
    "    # Create a DataFrame with zeros for padding\n",
    "    df_padding = pd.DataFrame(0, index=range(num_rows_to_pad), columns=df.columns)\n",
    "    \n",
    "    # Concatenate the original DataFrame with the padding\n",
    "    df_padded = pd.concat([df, df_padding], axis=0)\n",
    "    \n",
    "    # Append the padded DataFrame to the list\n",
    "    padded_dfs.append(df_padded)\n",
    "\n",
    "# Concatenate all padded DataFrames\n",
    "final_df = pd.concat(padded_dfs, axis=0, ignore_index=True)\n"
   ]
  },
  {
   "cell_type": "markdown",
   "id": "f1b6cf43",
   "metadata": {},
   "source": [
    "Concatenate DataFrames and Save:"
   ]
  },
  {
   "cell_type": "code",
   "execution_count": 15,
   "id": "842fd9d9",
   "metadata": {},
   "outputs": [
    {
     "name": "stdout",
     "output_type": "stream",
     "text": [
      "                                              Embedding Label\n",
      "0     [ 1.12388080e-02 -6.06789433e-03  1.74159527e-...     0\n",
      "1     [ 1.36618915e-02 -3.25999834e-03  2.52207676e-...     0\n",
      "2     [ 1.76282574e-02  2.49094374e-03  2.07401329e-...     0\n",
      "3     [ 1.20439410e-02 -5.57641536e-03  1.69668375e-...     0\n",
      "4     [ 1.67192302e-02 -1.11347363e-02  1.38958973e-...     0\n",
      "...                                                 ...   ...\n",
      "2175                                                  0     0\n",
      "2176                                                  0     0\n",
      "2177                                                  0     0\n",
      "2178                                                  0     0\n",
      "2179                                                  0     0\n",
      "\n",
      "[2180 rows x 2 columns]\n"
     ]
    }
   ],
   "source": [
    "# Display the final DataFrame\n",
    "print(final_df)"
   ]
  },
  {
   "cell_type": "code",
   "execution_count": 16,
   "id": "f71017fe",
   "metadata": {},
   "outputs": [
    {
     "name": "stdout",
     "output_type": "stream",
     "text": [
      "Final concatenated DataFrame saved to benign_all_w10_off_10.csv.\n"
     ]
    }
   ],
   "source": [
    "# Save the final DataFrame to a CSV file\n",
    "output_filename = \"benign_all_w10_off_10.csv\"\n",
    "final_df.to_csv(os.path.join(csv_directory, output_filename), index=False)\n",
    "\n",
    "print(f\"Final concatenated DataFrame saved to {output_filename}.\")\n"
   ]
  },
  {
   "cell_type": "code",
   "execution_count": null,
   "id": "a3b6ae97",
   "metadata": {},
   "outputs": [],
   "source": []
  }
 ],
 "metadata": {
  "kernelspec": {
   "display_name": "Python 3 (ipykernel)",
   "language": "python",
   "name": "python3"
  },
  "language_info": {
   "codemirror_mode": {
    "name": "ipython",
    "version": 3
   },
   "file_extension": ".py",
   "mimetype": "text/x-python",
   "name": "python",
   "nbconvert_exporter": "python",
   "pygments_lexer": "ipython3",
   "version": "3.11.4"
  }
 },
 "nbformat": 4,
 "nbformat_minor": 5
}
